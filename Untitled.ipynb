{
 "cells": [
  {
   "cell_type": "code",
   "execution_count": 21,
   "id": "24721b98-ef7c-4a92-a0f2-9711dc41bbe9",
   "metadata": {},
   "outputs": [],
   "source": [
    "transaction = {\n",
    "    'date': '8/25/2023',\n",
    "    'payee': 'MB',\n",
    "    'amount': 45.63,\n",
    "    'category': 'Household',\n",
    "    'test': 'floop'}"
   ]
  },
  {
   "cell_type": "code",
   "execution_count": 22,
   "id": "64541aa5-c945-4112-9bb4-15fa7b577214",
   "metadata": {},
   "outputs": [],
   "source": [
    "b = [f\"{key} == '{value}' AND \" for key,value in transaction.items()]"
   ]
  },
  {
   "cell_type": "code",
   "execution_count": 23,
   "id": "c73a9b88-6bbf-40af-9d75-a21ce5fbab6b",
   "metadata": {},
   "outputs": [
    {
     "name": "stdout",
     "output_type": "stream",
     "text": [
      "date == '8/25/2023' AND \n",
      "payee == 'MB' AND \n",
      "amount == '45.63' AND \n",
      "category == 'Household' AND \n",
      "test == 'floop' AND \n"
     ]
    }
   ],
   "source": [
    "for i in b: print(i)"
   ]
  },
  {
   "cell_type": "code",
   "execution_count": 24,
   "id": "5405e604-ef26-4b27-8d91-b39066224da2",
   "metadata": {},
   "outputs": [],
   "source": [
    "c = \"\""
   ]
  },
  {
   "cell_type": "code",
   "execution_count": 27,
   "id": "0fd03e01-c2eb-4f74-a873-effa5c504d53",
   "metadata": {},
   "outputs": [],
   "source": [
    "for i,(key,value) in enumerate(transaction.items()):\n",
    "    if i == (len(transaction) - 1):\n",
    "        c = c + f\"{key} == '{value}'\"\n",
    "    else:\n",
    "        c = c + f\"{key} == '{value}' AND \"\n",
    "        "
   ]
  },
  {
   "cell_type": "code",
   "execution_count": 28,
   "id": "f29e53fc-5f48-4f9d-a880-98a4d11aa32f",
   "metadata": {},
   "outputs": [
    {
     "data": {
      "text/plain": [
       "\"date == '8/25/2023' AND payee == 'MB' AND amount == '45.63' AND category == 'Household' AND test == 'floop'\""
      ]
     },
     "execution_count": 28,
     "metadata": {},
     "output_type": "execute_result"
    }
   ],
   "source": [
    "c"
   ]
  },
  {
   "cell_type": "code",
   "execution_count": null,
   "id": "1a42ef3b-58af-4126-b928-60d8406dce5d",
   "metadata": {},
   "outputs": [],
   "source": []
  }
 ],
 "metadata": {
  "kernelspec": {
   "display_name": "Python 3 (ipykernel)",
   "language": "python",
   "name": "python3"
  },
  "language_info": {
   "codemirror_mode": {
    "name": "ipython",
    "version": 3
   },
   "file_extension": ".py",
   "mimetype": "text/x-python",
   "name": "python",
   "nbconvert_exporter": "python",
   "pygments_lexer": "ipython3",
   "version": "3.11.3"
  }
 },
 "nbformat": 4,
 "nbformat_minor": 5
}
